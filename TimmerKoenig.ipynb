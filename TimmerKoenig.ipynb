{
 "metadata": {
  "name": "",
  "signature": "sha256:c01686ce8b1f1780ef93045ff32fcec9a645ef482a63a8e896718540d435bc0a"
 },
 "nbformat": 3,
 "nbformat_minor": 0,
 "worksheets": [
  {
   "cells": [
    {
     "cell_type": "code",
     "collapsed": false,
     "input": [
      "import numpy as np\n",
      "from scipy import fftpack\n",
      "import matplotlib.pyplot as plt\n",
      "import itertools"
     ],
     "language": "python",
     "metadata": {},
     "outputs": [],
     "prompt_number": 1
    },
    {
     "cell_type": "code",
     "collapsed": false,
     "input": [
      "# n_bins = 16\n",
      "# amp = 100  # in count rate\n",
      "# mean = 200  # in count rate\n",
      "# # dt = 1.0/16.0  # in seconds\n",
      "# dt = 1\n",
      "# # freq = 10.0  # in Hz\n",
      "# freq = 1.0\n",
      "# period = 1.0 / freq  # in seconds\n",
      "# bins_per_period = period / dt\n",
      "# print bins_per_period"
     ],
     "language": "python",
     "metadata": {},
     "outputs": [],
     "prompt_number": 2
    },
    {
     "cell_type": "code",
     "collapsed": false,
     "input": [
      "# time_series = []\n",
      "# tiny_bins = np.arange(0, n_bins, 0.1)\n",
      "# smooth_sine = [ (amp * np.sin(2.0 * np.pi * x / bins_per_period) + mean) for x in tiny_bins] # in units 'rate'\n",
      "# i = 0\n",
      "# j = 10\n",
      "# while j <= len(tiny_bins):\n",
      "# \ttime_series.append(np.mean(smooth_sine[i:j]))\n",
      "# \ti = j\n",
      "# \tj += 10\n",
      "# ## End of while loop\n",
      "# # print time_series\n",
      "# print len(time_series)"
     ],
     "language": "python",
     "metadata": {},
     "outputs": [],
     "prompt_number": 3
    },
    {
     "cell_type": "code",
     "collapsed": false,
     "input": [
      "# bins = np.arange(0,n_bins) # Bins to plot against\n",
      "\n",
      "# fig, ax = plt.subplots()\n",
      "# ax.plot(bins, time_series, linewidth=1.5, label=\"Time series\")\n",
      "# # plt.xlim(0, 30)\n",
      "# plt.xlabel('Bins')\n",
      "# plt.ylabel('Count rate')\n",
      "\n",
      "# legend = ax.legend(loc='upper right')\n",
      "# ## Set the fontsize\n",
      "# for label in legend.get_texts():\n",
      "#     label.set_fontsize('small')\n",
      "\n",
      "# for label in legend.get_lines():\n",
      "#     label.set_linewidth(2)  # the legend line width\n",
      "    \n",
      "# plt.show()"
     ],
     "language": "python",
     "metadata": {},
     "outputs": [],
     "prompt_number": 4
    },
    {
     "cell_type": "code",
     "collapsed": false,
     "input": [
      "# # time_series = np.asarray([np.random.normal() for i in np.arange(n_bins)])\n",
      "\n",
      "# # ACF = np.cov(time_series)\n",
      "# # print ACF\n",
      "# # spectrum = fftpack.fft(ACF)\n",
      "\n",
      "# fourier = fftpack.fft(time_series)\n",
      "# frequs = fftpack.fftfreq(len(fourier))\n",
      "# for a,b in zip(frequs, fourier):\n",
      "#     print a, \"\\t\", b\n",
      "# periodogram = np.absolute(fftpack.fft(time_series)) ** 2\n",
      "# # print periodogram\n",
      "\n",
      "# # print \"\\n\", len(fourier)\n",
      "# # print len(frequs)\n",
      "# # print n_bins"
     ],
     "language": "python",
     "metadata": {},
     "outputs": [],
     "prompt_number": 5
    },
    {
     "cell_type": "code",
     "collapsed": false,
     "input": [
      "def spectrum_shape(w, beta):\n",
      "    ## Gives the spectrum (1/w)^beta; the beta/2 is for the approximation to make the FT components\n",
      "    return (1.0 / w) ** (beta / 2.0)"
     ],
     "language": "python",
     "metadata": {},
     "outputs": [],
     "prompt_number": 6
    },
    {
     "cell_type": "code",
     "collapsed": false,
     "input": [
      "def make_FT(pos_freq, beta):\n",
      "    ## Creating two lists, the length of the positive Fourier frequencies, of random numbers drawn \n",
      "    ## from a Gaussian distribution\n",
      "    rand_x = np.asarray([np.random.normal() for i in xrange(len(pos_freq))])\n",
      "    if n_bins%2 == 0:\n",
      "        rand_y = np.asarray([np.random.normal() for i in xrange(len(pos_freq)-1)])\n",
      "        rand_y = np.append(rand_y, 0.0) # because the nyquist frequency should only have\n",
      "    else:\n",
      "        rand_y = np.asarray([np.random.normal() for i in xrange(len(pos_freq))])\n",
      "\n",
      "    # print len(rand_x)\n",
      "    ## Creating the real and imaginary values from the lists of random numbers and the frequencies\n",
      "    x_values = rand_x * spectrum_shape(pos_freq, beta)\n",
      "    x_values[np.where(pos_freq == 0)] = 0\n",
      "    # print x_values\n",
      "    y_values = rand_y * spectrum_shape(pos_freq, beta)\n",
      "    y_values[np.where(pos_freq == 0)] = 0\n",
      "    # print y_values\n",
      "\n",
      "    FT_pos = np.asarray([complex(x,y) for x,y in itertools.izip(x_values, y_values)])\n",
      "\n",
      "    if pos_freq[0] == 0:\n",
      "        FT_neg = np.conj(FT_pos[1:-1])\n",
      "    else:\n",
      "        FT_neg = np.conj(FT_pos)\n",
      "    # print FT_neg\n",
      "\n",
      "    FT = np.append(FT_pos, FT_neg)\n",
      "#     print len(FT)\n",
      "\n",
      "    return FT"
     ],
     "language": "python",
     "metadata": {},
     "outputs": [],
     "prompt_number": 7
    },
    {
     "cell_type": "code",
     "collapsed": false,
     "input": [
      "n_bins = 2048\n",
      "beta = 1\n",
      "\n",
      "## Making an array of Fourier frequencies\n",
      "frequencies = np.arange(float(-n_bins/2)+1, float(n_bins/2)+1)\n",
      "pos_freq = frequencies[np.where(frequencies >= 0)] # if even, positive should have 2 more than \n",
      "                                                   # negative, because of the 0 freq and the \n",
      "                                                   # nyquist freq\n",
      "neg_freq = frequencies[np.where(frequencies < 0)]\n",
      "nyquist = pos_freq[-1]\n",
      "# print nyquist\n",
      "# print pos_freq\n",
      "# print neg_freq\n",
      "# print len(pos_freq)\n",
      "# print len(neg_freq)\n",
      "\n",
      "FT = make_FT(pos_freq, beta)\n",
      "\n",
      "power = np.absolute(FT) ** 2\n",
      "# print len(power)\n",
      "# print power\n",
      "\n",
      "time_series = fftpack.fft(FT)\n",
      "time_bins = np.arange(n_bins)"
     ],
     "language": "python",
     "metadata": {},
     "outputs": [],
     "prompt_number": 16
    },
    {
     "cell_type": "code",
     "collapsed": false,
     "input": [
      "fig, (ax1, ax2) = plt.subplots(2,1, figsize=(10,10))\n",
      "ax1.plot(time_bins, time_series, linewidth=2.0)\n",
      "ax1.set_xlabel('Arbitrary time bins')\n",
      "ax1.set_ylabel('Arbitrary counts')\n",
      "ax1.set_xlim(0, n_bins)\n",
      "ax1.set_title(r'Light curve for $\\beta$ = %s' % str(beta))\n",
      "ax2.plot(frequencies, power, linewidth=2.0)\n",
      "ax2.set_xscale('log')\n",
      "ax2.set_yscale('log')\n",
      "ax2.set_xlabel('log Frequency (Hz)')\n",
      "ax2.set_ylabel('log Power')\n",
      "ax2.set_xlim(0, nyquist)\n",
      "ax2.set_title(r'Power density spectrum for $\\beta$ = %s' % str(beta))\n",
      "fig.tight_layout()\n",
      "plt.show()"
     ],
     "language": "python",
     "metadata": {},
     "outputs": []
    },
    {
     "cell_type": "code",
     "collapsed": false,
     "input": [],
     "language": "python",
     "metadata": {},
     "outputs": [],
     "prompt_number": 9
    }
   ],
   "metadata": {}
  }
 ]
}