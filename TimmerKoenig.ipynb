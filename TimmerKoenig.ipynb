{
 "metadata": {
  "name": "",
  "signature": "sha256:93e31727076a09c70e42805b4cc59d420e0977db9bfabd67556f3f8f7037be48"
 },
 "nbformat": 3,
 "nbformat_minor": 0,
 "worksheets": [
  {
   "cells": [
    {
     "cell_type": "code",
     "collapsed": false,
     "input": [
      "##  This code generates a Fourier transform of a specified shape as outlined in \n",
      "##  Timmer and Koenig 1995 (A&A vol 300 p 707-710), and plots it and its corresponding time series.\n",
      "\n",
      "import numpy as np\n",
      "from scipy import fftpack\n",
      "import matplotlib.pyplot as plt\n",
      "import itertools\n",
      "\n",
      "%matplotlib inline  \n",
      "# shows the plots inline, instead of in a separate window"
     ],
     "language": "python",
     "metadata": {},
     "outputs": [],
     "prompt_number": 1
    },
    {
     "cell_type": "code",
     "collapsed": false,
     "input": [
      "def make_pulsation(n_bins, amp, mean):\n",
      "    time_series = np.asarray([])\n",
      "    binning = 10\n",
      "    tiny_bins = np.arange(0, n_bins, 1.0/binning)\n",
      "    smooth_sine = [ (amp * np.sin(2.0 * np.pi * x / bins_per_period) + mean) for x in tiny_bins] # in units 'rate'\n",
      "    i = 0\n",
      "    j = binning\n",
      "    while j <= len(tiny_bins):\n",
      "        time_series = np.append(time_series, (np.mean(smooth_sine[i:j])))\n",
      "        i = j\n",
      "        j += 10\n",
      "    ## End of while loop\n",
      "    return time_series"
     ],
     "language": "python",
     "metadata": {},
     "outputs": [],
     "prompt_number": 2
    },
    {
     "cell_type": "code",
     "collapsed": false,
     "input": [
      "# bins = np.arange(0,n_bins) # Bins to plot against\n",
      "# time_series = make_pulsation(n_bins, amp, mean)\n",
      "# fig, ax = plt.subplots()\n",
      "# ax.plot(bins, time_series, linewidth=1.5, label=\"Time series\")\n",
      "# # plt.xlim(0, 30)\n",
      "# plt.xlabel('Time bins')\n",
      "# plt.ylabel('Count rate')\n",
      "\n",
      "# # legend = ax.legend(loc='upper right')\n",
      "# # ## Set the fontsize\n",
      "# # for label in legend.get_texts():\n",
      "# #     label.set_fontsize('small')\n",
      "# # for label in legend.get_lines():\n",
      "# #     label.set_linewidth(2)  # the legend line width\n",
      "# plt.show()"
     ],
     "language": "python",
     "metadata": {},
     "outputs": [],
     "prompt_number": 3
    },
    {
     "cell_type": "code",
     "collapsed": false,
     "input": [
      "def powerlaw(w, beta):\n",
      "    ## Gives a powerlaw of (1/w)^beta\n",
      "    pl = w ** (-beta)\n",
      "    return pl"
     ],
     "language": "python",
     "metadata": {},
     "outputs": [],
     "prompt_number": 4
    },
    {
     "cell_type": "code",
     "collapsed": false,
     "input": [
      "def lorentzian(w, w_0, gamma):\n",
      "    ## Gives a Lorentzian centered on w_0 with a FWHM of gamma\n",
      "    numerator = gamma / (np.pi * 2.0)\n",
      "    denominator = (w - w_0) ** 2 + (1.0/2.0 * gamma) ** 2\n",
      "    L = numerator / denominator\n",
      "    return L"
     ],
     "language": "python",
     "metadata": {},
     "outputs": [],
     "prompt_number": 5
    },
    {
     "cell_type": "code",
     "collapsed": false,
     "input": [
      "def powerlaw_expdecay(w, beta, alpha):\n",
      "    pl_exp = (1.0 / w) ** beta * np.exp(-alpha * w)\n",
      "    return pl_exp"
     ],
     "language": "python",
     "metadata": {},
     "outputs": [],
     "prompt_number": 6
    },
    {
     "cell_type": "code",
     "collapsed": false,
     "input": [
      "def broken_powerlaw(w, w_b, beta_1, beta_2):\n",
      "    c = w_b ** (-beta_1 + beta_2)  ## scale factor so that they're equal at the break frequency\n",
      "    pl_1 = w[np.where(w <= w_b)] ** (-beta_1)\n",
      "    pl_2 = c * w[np.where(w > w_b)] ** (-beta_2)\n",
      "    pl = np.append(pl_1, pl_2)\n",
      "    return pl"
     ],
     "language": "python",
     "metadata": {},
     "outputs": [],
     "prompt_number": 7
    },
    {
     "cell_type": "code",
     "collapsed": false,
     "input": [
      "def dirac_delta(w, a, w_p):\n",
      "    w = w - w_p\n",
      "    nom = np.exp(-(w ** 2 / a ** 2))\n",
      "    denom = a * np.sqrt(np.pi)\n",
      "    d = nom / denom\n",
      "    return d"
     ],
     "language": "python",
     "metadata": {},
     "outputs": [],
     "prompt_number": 8
    },
    {
     "cell_type": "code",
     "collapsed": false,
     "input": [
      "n_bins = 32768\n",
      "# n_bins = 64\n",
      "\n",
      "dt = 1.0 / 8192.0 \n",
      "# dt = 0.5\n",
      "\n",
      "df = 1.0 / dt / n_bins\n",
      "print df\n",
      "\n",
      "## Making an array of Fourier frequencies\n",
      "frequencies = np.arange(float(-n_bins/2)+1, float(n_bins/2)+1)\n",
      "frequencies = frequencies * df # gives a freq resolution better than 1 Hz\n",
      "\n",
      "pos_freq = frequencies[np.where(frequencies >= 0)] # if n_Bins is even, positive should have 2 more \n",
      "                                                   # than negative, because of the 0 freq and the \n",
      "                                                   # nyquist freq\n",
      "neg_freq = frequencies[np.where(frequencies < 0)]\n",
      "nyquist = pos_freq[-1]\n"
     ],
     "language": "python",
     "metadata": {},
     "outputs": [
      {
       "output_type": "stream",
       "stream": "stdout",
       "text": [
        "0.25\n"
       ]
      }
     ],
     "prompt_number": 30
    },
    {
     "cell_type": "code",
     "collapsed": false,
     "input": [
      "beta = 2.0\n",
      "## For QPOs, Q factor is w_0 / gamma\n",
      "gamma_1 = 5.0\n",
      "w_1 = 50.0\n",
      "gamma_2 = 0.1\n",
      "w_2 = 1.0\n",
      "\n",
      "spectrum_shape = powerlaw(pos_freq, beta)\n",
      "# spectrum_shape = lorentzian(pos_freq, w_1, gamma_1)\n",
      "# spectrum_shape = lorentzian(pos_freq, w_1, gamma_1) + powerlaw(pos_freq, beta)\n",
      "# spectrum_shape = powerlaw_expdecay(pos_freq, beta, alpha)\n",
      "# spectrum_shape = broken_powerlaw(pos_freq, w_b, beta_1, beta_2)\n",
      "# spectrum_shape = lorentzian(pos_freq, w_1, gamma_1) + lorentzian(pos_freq, w_2, gamma_2)\n",
      "\n",
      "# a = 1.0\n",
      "# w_p = 300.0  # Hz\n",
      "# beta = 1.5\n",
      "# alpha = 0.1\n",
      "# beta_1 = 0.8\n",
      "# beta_2 = 3.0\n",
      "# w_b = n_bins / 90.0"
     ],
     "language": "python",
     "metadata": {},
     "outputs": [],
     "prompt_number": 31
    },
    {
     "cell_type": "code",
     "collapsed": false,
     "input": [
      "## Applying an inverse fractional rms^2 normalization to the fourier transform \n",
      "def inv_frac_rms2_norm(amplitudes, dt, n_bins):\n",
      "    mean_rate = 200\n",
      "#     rms2_power = 2.0 * power * dt / float(n_bins) / (mean_rate ** 2)\n",
      "    inv_rms2 = amplitudes * dt * n_bins * mean_rate ** 2 / 2.0\n",
      "    return inv_rms2"
     ],
     "language": "python",
     "metadata": {},
     "outputs": [],
     "prompt_number": 52
    },
    {
     "cell_type": "code",
     "collapsed": false,
     "input": [
      "## Creating two lists, the length of the positive Fourier frequencies, of random numbers drawn \n",
      "## from a Gaussian distribution\n",
      "rand_r = np.random.standard_normal(len(pos_freq))\n",
      "if n_bins%2 == 0:\n",
      "    rand_i = np.random.standard_normal(len(pos_freq)-1)\n",
      "    rand_i = np.append(rand_i, 0.0) # because the nyquist frequency should only have a real value\n",
      "else:\n",
      "    rand_i = np.random.standard_normal(len(pos_freq))\n",
      "\n",
      "## Creating the real and imaginary values from the lists of random numbers and the frequencies\n",
      "r_values = rand_r * np.sqrt(0.5 * spectrum_shape)\n",
      "i_values = rand_i * np.sqrt(0.5 * spectrum_shape)\n",
      "\n",
      "r_values[np.where(pos_freq == 0)] = 0\n",
      "i_values[np.where(pos_freq == 0)] = 0\n",
      "\n",
      "FT_pos = np.asarray([complex(r,i) for r,i in itertools.izip(r_values, i_values)])\n",
      "\n",
      "if pos_freq[0] == 0:\n",
      "    FT_neg = np.conj(FT_pos[1:-1]) \n",
      "else:\n",
      "    FT_neg = np.conj(FT_pos)\n",
      "\n",
      "\n",
      "FT = np.append(FT_pos, FT_neg)\n",
      "FT = inv_frac_rms2_norm(FT, dt, n_bins)\n",
      "print \"FT:\", FT\n",
      "spectrum_power = np.absolute(FT) ** 2\n",
      "spectrum_power = spectrum_power[0:len(pos_freq)]\n",
      "\n",
      "# spectrum_power = inv_frac_rms2_norm(spectrum_power, dt, n_bins)\n",
      "spectrum_power[np.where(spectrum_power < 0)] = 0\n",
      "# spectrum_power[np.where(spectrum_power.real < 0)] = - spectrum_power.real[np.where(spectrum_power.real < 0)]\n",
      "spectrum_lc = fftpack.ifft(FT).real\n",
      "\n",
      "# print spectrum_lc[0:5]\n",
      "time_bins = np.arange(n_bins)\n",
      "# If you get a 'divide by zero' runtime error, run this box again.\n",
      "\n",
      "print \"Power:\", spectrum_power\n",
      "print \"Lightcurve:\", spectrum_lc"
     ],
     "language": "python",
     "metadata": {},
     "outputs": [
      {
       "output_type": "stream",
       "stream": "stdout",
       "text": [
        "FT: [  0.00000000e+00 +0.00000000e+00j   6.50188984e+04 -1.23528477e+05j\n",
        "  -4.97447554e+04 +6.81017850e+04j ...,  -1.13767355e+00 -1.08170640e+01j\n",
        "   2.07790556e+00 -1.35879414e+01j   1.53159697e+00 +1.29975643e+01j]\n",
        "Power: [  0.00000000e+00   1.94867419e+10   7.11239381e+09 ...,   1.88949843e+02\n",
        "   1.71282466e+02   1.21913213e+02]\n",
        "Lightcurve: [ 4.13909863  0.1469206   3.74727936 ..., -0.23581014  3.74727936\n",
        " -0.14759452]\n"
       ]
      }
     ],
     "prompt_number": 53
    },
    {
     "cell_type": "code",
     "collapsed": false,
     "input": [
      "# pulse_mean = 200  # in count rate\n",
      "# pulse_amp = 50  # in count rate\n",
      "pulse_mean = 1.0 # fractional\n",
      "pulse_amp = 0.5 # fractional\n",
      "freq = 100.0\n",
      "# freq = 0.125\n",
      "period = 1.0 / freq  # in seconds\n",
      "bins_per_period = period / dt\n",
      "print bins_per_period"
     ],
     "language": "python",
     "metadata": {},
     "outputs": [
      {
       "output_type": "stream",
       "stream": "stdout",
       "text": [
        "81.92\n"
       ]
      }
     ],
     "prompt_number": 54
    },
    {
     "cell_type": "code",
     "collapsed": false,
     "input": [
      "pulse_lc = make_pulsation(n_bins, pulse_amp, pulse_mean)\n",
      "print \"Pulse lightcurve:\", pulse_lc\n",
      "pulse_power = np.absolute(fftpack.fft(pulse_lc)) ** 2\n",
      "pulse_power = pulse_power[0:len(pos_freq)]\n",
      "print \"Pulse power:\", pulse_power\n",
      "\n",
      "# print np.shape(pulse_lc)\n",
      "# print np.shape(spectrum_lc)\n",
      "\n",
      "# total_lc = (1.0 + pulse_lc) * (1.0 + spectrum_lc)\n",
      "total_lc = (1.0 + pulse_lc) * (1.0 + spectrum_lc)\n",
      "\n",
      "\n",
      "total_lc[np.where(total_lc < 0)] = 0\n",
      "print \"Mean of LC:\", np.mean(total_lc)\n",
      "total_power = np.absolute(fftpack.fft(total_lc)) ** 2\n",
      "\n",
      "total_power = total_power[0:len(pos_freq)]\n",
      "print np.mean(total_power)\n",
      "\n",
      "total_power = 2.0 * total_power / (dt * n_bins * (200 ** 2))\n",
      "\n",
      "print \"Mean of total power:\", np.mean(total_power)"
     ],
     "language": "python",
     "metadata": {},
     "outputs": [
      {
       "output_type": "stream",
       "stream": "stdout",
       "text": [
        "Pulse lightcurve: [ 1.01724967  1.05547878  1.09338168 ...,  0.90285457  0.94071255\n",
        "  0.97891914]\n",
        "Pulse power: [  1.07374182e+09   1.88453257e-25   5.41213720e-25 ...,   2.41333439e-25\n",
        "   4.62299231e-25   0.00000000e+00]\n",
        "Mean of LC: 7.43331815455\n",
        "7457219.49027\n",
        "Mean of total power: 93.2152436284\n"
       ]
      }
     ],
     "prompt_number": 59
    },
    {
     "cell_type": "code",
     "collapsed": false,
     "input": [
      "##  Titles in unicode\n",
      "# print u\"\\n\\t\\tPower law; \\u03B2 = %s\\n\" % str(beta)\n",
      "# print u\"\\n\\t\\tLorentzian; \\u0393 = %s at \\u03C9\\u2080 = %s\\n\" % (str(gamma), str(w_0))\n",
      "# print u\"\\n\\t\\tPower law with exponential decay; \\u03B2 = %s, \\u03B1 = %s\\n\" \\\n",
      "#     % (str(beta), str(alpha))\n",
      "# print u\"\\n\\n\\tBroken power law; \\u03C9_break = %s, \\u03B2\\u2081 = %s, \\u03B2\\u2082 = %s\\n\" \\\n",
      "#     % (str(w_b), str(beta_1), str(beta_2))\n",
      "\n",
      "super_title = \"\"\n",
      "# super_title = r\"Power law; $\\beta$ = %s\" % str(beta)\n",
      "# super_title = r\"Lorentzian; $\\Gamma$ = %s at $\\omega_0$ = %s Hz\" % (str(gamma), str(w_0))\n",
      "# super_title = r\"Power law with exponential decay; $\\beta$ = %s, $\\alpha$ = %s\" % (str(beta), str(alpha))\n",
      "# super_title = r\"Broken power law; $\\omega_{break}$ = %.2f Hz, $\\beta_1$ = %.2f, $\\beta_2$ = %.2f\" \\\n",
      "#     % (w_b, beta_1, beta_2)\n",
      "\n",
      "npn = total_power * pos_freq\n",
      "\n",
      "fig, (ax1, ax2) = plt.subplots(2,1, figsize=(10,10))\n",
      "fig.suptitle(super_title, fontsize=20, y=1.03)\n",
      "ax1.plot(time_bins, total_lc, linewidth=2.0, color='g')\n",
      "ax1.set_xlabel('Arbitrary time bins', fontsize=16)\n",
      "ax1.set_ylabel('Arbitrary count rate', fontsize=16)\n",
      "ax1.set_xlim(0, n_bins)\n",
      "ax1.set_title('Light curve', fontsize=18)\n",
      "# ax2.plot(pos_freq, pulse_power * pos_freq, linewidth=2.0)\n",
      "ax2.plot(pos_freq, npn, linewidth=2.0)\n",
      "ax2.set_xscale('log')\n",
      "ax2.set_yscale('log')\n",
      "ax2.set_xlabel(r'$\\nu$ (Hz)', fontsize=16)\n",
      "ax2.set_ylabel(r'$\\nu$ * P($\\nu$) (rms$^2$ norm.)', fontsize=16)\n",
      "ax2.set_xlim(0, nyquist)\n",
      "# ax2.set_xlim(0,200)\n",
      "# ax2.set_ylim(0,300)\n",
      "ax2.set_title('Power density spectrum', fontsize=18)\n",
      "fig.tight_layout(pad=1.0, h_pad=2.0)\n",
      "plt.show()\n",
      "\n",
      "print \"dt = \", dt\n",
      "print \"df = \", df\n",
      "print \"nyquist = \", nyquist\n",
      "print \"n_bins = \", n_bins\n",
      "print \"Mean pulse power:\", np.mean(pulse_power)"
     ],
     "language": "python",
     "metadata": {},
     "outputs": [
      {
       "metadata": {},
       "output_type": "display_data",
       "png": "[encoded data removed]",
       "text": [
        "<matplotlib.figure.Figure at 0x10a18b2d0>"
       ]
      },
      {
       "output_type": "stream",
       "stream": "stdout",
       "text": [
        "dt =  0.0001220703125\n",
        "df =  0.25\n",
        "nyquist =  4096.0\n",
        "n_bins =  32768\n",
        "Mean pulse power: 69625.7628682\n"
       ]
      }
     ],
     "prompt_number": 60
    },
    {
     "cell_type": "code",
     "collapsed": false,
     "input": [],
     "language": "python",
     "metadata": {},
     "outputs": [],
     "prompt_number": 36
    },
    {
     "cell_type": "code",
     "collapsed": false,
     "input": [],
     "language": "python",
     "metadata": {},
     "outputs": [],
     "prompt_number": 15
    }
   ],
   "metadata": {}
  }
 ]
}